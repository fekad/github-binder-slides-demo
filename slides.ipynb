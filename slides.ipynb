{
 "cells": [
  {
   "cell_type": "code",
   "execution_count": null,
   "metadata": {
    "slideshow": {
     "slide_type": "skip"
    }
   },
   "outputs": [],
   "source": [
    "import numpy as np\n",
    "import matplotlib.pyplot as plt\n",
    "\n",
    "# from IPython import display\n",
    "# display.Image(\"images/joke1.png\")"
   ]
  },
  {
   "cell_type": "markdown",
   "metadata": {
    "slideshow": {
     "slide_type": "slide"
    }
   },
   "source": [
    "# Useful tools for doing research\n",
    "\n",
    "\n",
    "Adam Fekete \n",
    "- <i class=\"fa fa-envelope\"></i> adam.fekete@unamur.be\n",
    "- <i class=\"fa-github fa\"></i> https://github.com/fekad/\n",
    "\n",
    "\n",
    "\n",
    "<br><br><br><br><br>\n",
    "***\n",
    "\n",
    "**UNamur, 2022**"
   ]
  },
  {
   "cell_type": "markdown",
   "metadata": {
    "slideshow": {
     "slide_type": "slide"
    }
   },
   "source": [
    "## If programming languages were essays...\n",
    "\n",
    "\n",
    "<table><tr>\n",
    "<td> <img src=\"images/joke1.png\" alt=\"Drawing\" style=\"width: 70%;\"/> </td>\n",
    "<td> <img src=\"images/joke2.png\" alt=\"Drawing\" style=\"width: 70%;\"/> </td>\n",
    "</tr></table>\n",
    "<!-- \n",
    "![alt](images/joke1.png) | ![alt](images/joke2.png)\n",
    "- | -\n",
    " -->\n",
    " "
   ]
  },
  {
   "cell_type": "markdown",
   "metadata": {
    "slideshow": {
     "slide_type": "slide"
    }
   },
   "source": [
    "## Doing research (in a mordern way)\n",
    "\n",
    "### Reproducible research\n",
    "- Repository: Keeping track of the development\n",
    "- Reusable: Sharing and collabration with others\n",
    "    \n",
    "<div class=\"alert alert-block alert-info center\">\n",
    "<center><b>aritcle + code + data = results</b></center>\n",
    "</div>\n"
   ]
  },
  {
   "cell_type": "markdown",
   "metadata": {
    "slideshow": {
     "slide_type": "fragment"
    }
   },
   "source": [
    "**Sidenotes:**\n",
    "- The FAIR principle (Findable, Accessible, Interoperable, Reusable)<br>\n",
    "  https://www.nature.com/articles/sdata201618\n",
    "- Accessible: open access publications, supplementary informations\n",
    "- Note: publishing code more and more important"
   ]
  },
  {
   "cell_type": "markdown",
   "metadata": {
    "slideshow": {
     "slide_type": "subslide"
    }
   },
   "source": [
    "## Development enviroments\n",
    "\n",
    "- Version control: https://github.com/ \n",
    "    - Note that you can have many benefits if you register here: https://education.github.com/pack \n",
    "\n",
    "\n",
    " "
   ]
  },
  {
   "cell_type": "markdown",
   "metadata": {
    "slideshow": {
     "slide_type": "fragment"
    }
   },
   "source": [
    "\n",
    "- VSCode: https://code.visualstudio.com/ \n",
    "    - Python, FORTRAN, Julia,etc.\n",
    "    - integrated git\n",
    "    - remote cluster \n"
   ]
  },
  {
   "cell_type": "markdown",
   "metadata": {
    "slideshow": {
     "slide_type": "fragment"
    }
   },
   "source": [
    "- Using multiple environments:\n",
    "    - conda (https://docs.conda.io/en/latest/ ) development environments\n",
    "    - docker (https://docs.docker.com/get-started/ )for more complex applications.\n",
    "    - LXC linux containers"
   ]
  },
  {
   "cell_type": "markdown",
   "metadata": {
    "slideshow": {
     "slide_type": "subslide"
    }
   },
   "source": [
    "## Different philosophies of modern development \n",
    "\n",
    "1. The usage of git branches/workflowsto organise the work:\n",
    "   - The \"administrative part\" might be overwhelming for researchers\n",
    "   \n",
    "2. Agile development (with continuous integration (CI/CD))\n",
    "   - there is only a single branch (a single truth)\n",
    "   - releases: fixing the versions of a particular state\n",
    "\n",
    "Builing packages: Test-driven development\n",
    "- https://en.m.wikipedia.org/wiki/Test-driven_development"
   ]
  },
  {
   "cell_type": "markdown",
   "metadata": {
    "slideshow": {
     "slide_type": "subslide"
    }
   },
   "source": [
    "<table><tr>\n",
    "<td> <img src=\"images/git-model.png\" alt=\"Drawing\" style=\"width: 60%;\"/> </td>\n",
    "<td> <img src=\"images/CI_CD.jpeg\" alt=\"Drawing\" style=\"width: 70%;\"/> </td>\n",
    "</tr></table>"
   ]
  },
  {
   "cell_type": "markdown",
   "metadata": {
    "slideshow": {
     "slide_type": "slide"
    }
   },
   "source": [
    "## Live demo\n",
    "\n",
    "- Github: creating empty repository\n",
    "- VSCode: cloning repo and creating a new notebook\n",
    "- example application for mie scattering\n",
    "- pushing then changes\n",
    "- MyBinder: making notebook publicly available"
   ]
  },
  {
   "cell_type": "markdown",
   "metadata": {
    "slideshow": {
     "slide_type": "slide"
    }
   },
   "source": [
    "## Thank you for your attention!\n",
    "<br><br>\n",
    "\n",
    "Small remaks: This whole presentation is\n",
    "- is a jupyter notebook\n",
    "- using python envirnment\n",
    "- stored on github\n",
    "- served on mybinder \n"
   ]
  },
  {
   "cell_type": "markdown",
   "metadata": {
    "slideshow": {
     "slide_type": "subslide"
    }
   },
   "source": [
    "## Tips and Tricks\n",
    "\n",
    "<div class=\"alert alert-block alert-success\">\n",
    "<b>Note:</b> You can use html elements\n",
    "</div>\n",
    "or math in markdown:\n",
    "$$\n",
    "e^{i\\pi} + 1 = 0\n",
    "$$\n",
    "or generate outbut with actual code:"
   ]
  },
  {
   "cell_type": "code",
   "execution_count": null,
   "metadata": {
    "slideshow": {
     "slide_type": "-"
    }
   },
   "outputs": [],
   "source": [
    "data = {'a': np.arange(50), 'c': np.random.randint(0, 50, 50), 'd': np.random.randn(50)}\n",
    "data['b'], data['d'] = data['a'] + 10 * np.random.randn(50), np.abs(data['d']) * 500\n",
    "\n",
    "plt.scatter('a', 'b', c='c', s='d', data=data)\n",
    "plt.xlabel('entry a')\n",
    "plt.ylabel('entry b')\n",
    "plt.show()"
   ]
  },
  {
   "cell_type": "markdown",
   "metadata": {},
   "source": []
  },
  {
   "cell_type": "markdown",
   "metadata": {
    "slideshow": {
     "slide_type": "slide"
    }
   },
   "source": [
    "## Virtualisation of applications and/or machines\n",
    "\n",
    "1. HPC vs. Cloud computing\n",
    "2. Conda/Docker/LXC\n",
    "\n",
    "Continuous integration (automatic testing):\n",
    "- Github actions: https://github.com/features/actions \n",
    "- 3rd party tools like Travis: https://travis-ci.org/ \n",
    "- Do everything automatically that you would do manually!\n",
    "<img src=\"images/CI_CD.jpeg\" alt=\"Drawing\" style=\"width: 50%;\"/>\n",
    "<!-- ![](images/CI_CD.jpeg) -->\n"
   ]
  },
  {
   "cell_type": "markdown",
   "metadata": {
    "slideshow": {
     "slide_type": "subslide"
    }
   },
   "source": [
    "## Other tools to make life easier\n",
    " \n",
    " \n",
    "- GitKraken: https://www.gitkraken.com/ \n",
    "- black (formating for python): https://black.readthedocs.io/en/stable/ \n",
    "    - alternatives: yapf, autopep8\n",
    "    - python community PEP8: https://www.python.org/dev/peps/pep-0008/\n",
    "\n",
    "### Cheating (AI assist):\n",
    "- https://copilot.github.com/ \n",
    "- https://www.tabnine.com/ "
   ]
  },
  {
   "cell_type": "code",
   "execution_count": null,
   "metadata": {},
   "outputs": [],
   "source": []
  }
 ],
 "metadata": {
  "celltoolbar": "Slideshow",
  "interpreter": {
   "hash": "262d35cc04ba3798c288ac1885c582df3e6c9c9d57ef53e44c04c1109cb68079"
  },
  "kernelspec": {
   "display_name": "Python 3 (ipykernel)",
   "language": "python",
   "name": "python3"
  },
  "language_info": {
   "codemirror_mode": {
    "name": "ipython",
    "version": 3
   },
   "file_extension": ".py",
   "mimetype": "text/x-python",
   "name": "python",
   "nbconvert_exporter": "python",
   "pygments_lexer": "ipython3",
   "version": "3.9.5"
  }
 },
 "nbformat": 4,
 "nbformat_minor": 2
}
