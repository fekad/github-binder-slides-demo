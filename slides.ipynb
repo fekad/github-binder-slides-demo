{
 "cells": [
  {
   "cell_type": "code",
   "execution_count": null,
   "metadata": {
    "slideshow": {
     "slide_type": "skip"
    }
   },
   "outputs": [],
   "source": [
    "import numpy as np\n",
    "import matplotlib.pyplot as plt"
   ]
  },
  {
   "cell_type": "markdown",
   "metadata": {
    "slideshow": {
     "slide_type": "slide"
    }
   },
   "source": [
    "# Useful tools for doing research\n",
    "\n",
    "<br><br>\n",
    "\n",
    "Adam Fekete \n",
    "- <i class=\"fa fa-envelope\"></i> adam.fekete@unamur.be\n",
    "- <i class=\"fa-github fa\"></i> https://github.com/fekad/\n",
    "\n",
    "\n",
    "\n",
    "<br><br><br>\n",
    "***\n",
    "\n",
    "**UNamur, 2022**"
   ]
  },
  {
   "cell_type": "markdown",
   "metadata": {
    "slideshow": {
     "slide_type": "slide"
    }
   },
   "source": [
    "## If programming languages were essays...\n",
    "\n",
    "<table><tr>\n",
    "<td> <img src=\"images/joke-part1.png\" alt=\"Drawing\" style=\"width: 70%;\"/> </td>\n",
    "<td> <img src=\"images/joke-part2.png\" alt=\"Drawing\" style=\"width: 70%;\"/> </td>\n",
    "</tr></table>"
   ]
  },
  {
   "cell_type": "markdown",
   "metadata": {
    "slideshow": {
     "slide_type": "slide"
    }
   },
   "source": [
    "## Doing research (in a modern way)\n",
    "\n",
    "### Reproducible research\n",
    "- Reproducibility: [Nature 533, 452–454 (2016)](https://www.nature.com/articles/533452a)\n",
    "- Repository: keeping track of the development\n",
    "- Reusable: sharing and collabration with others\n",
    "    \n",
    "<div class=\"alert alert-block alert-info center\">\n",
    "<center><b>aritcle + code + data = results</b></center>\n",
    "</div>"
   ]
  },
  {
   "cell_type": "markdown",
   "metadata": {
    "slideshow": {
     "slide_type": "fragment"
    }
   },
   "source": [
    "**Sidenotes:**\n",
    "- [The FAIR principle (Findable, Accessible, Interoperable, Reusable)](https://www.nature.com/articles/sdata201618)\n",
    "- Accessible: open access publications, supplementary informations\n",
    "- Note: publishing code/data is becoming more and more important"
   ]
  },
  {
   "cell_type": "markdown",
   "metadata": {
    "slideshow": {
     "slide_type": "subslide"
    }
   },
   "source": [
    "## Different philosophies of modern development \n",
    "\n",
    "1. The usage of git branches/workflows to organise the work:\n",
    "   - The \"administrative part\" might be overwhelming for researchers"
   ]
  },
  {
   "cell_type": "markdown",
   "metadata": {
    "slideshow": {
     "slide_type": "fragment"
    }
   },
   "source": [
    "2. Agile development (usually with continuous integration)\n",
    "   - there is only a single branch (a single truth)\n",
    "   - releases: fixing the versions of a particular state"
   ]
  },
  {
   "cell_type": "markdown",
   "metadata": {
    "slideshow": {
     "slide_type": "fragment"
    }
   },
   "source": [
    "Builing packages: [test-driven development](https://en.m.wikipedia.org/wiki/Test-driven_development)"
   ]
  },
  {
   "cell_type": "markdown",
   "metadata": {
    "slideshow": {
     "slide_type": "subslide"
    }
   },
   "source": [
    "<table><tr>\n",
    "<td> <img src=\"images/git-model.png\" alt=\"Drawing\" style=\"width: 60%;\"/> </td>\n",
    "<td> <img src=\"images/ci-cd.jpeg\" alt=\"Drawing\" style=\"width: 70%;\"/> </td>\n",
    "</tr></table>"
   ]
  },
  {
   "cell_type": "markdown",
   "metadata": {
    "slideshow": {
     "slide_type": "subslide"
    }
   },
   "source": [
    "## Development environments\n",
    "\n",
    "- [Github](https://github.com/) for version control:\n",
    "    - for students: https://education.github.com/pack"
   ]
  },
  {
   "cell_type": "markdown",
   "metadata": {
    "slideshow": {
     "slide_type": "fragment"
    }
   },
   "source": [
    "- Micrsosft [Visual Studio Code](https://code.visualstudio.com/)\n",
    "    - Python, FORTRAN, Julia,etc.\n",
    "    - integrated git tools\n",
    "    - accessing remote clusters over SSH"
   ]
  },
  {
   "cell_type": "markdown",
   "metadata": {
    "slideshow": {
     "slide_type": "fragment"
    }
   },
   "source": [
    "- Using multiple environments:\n",
    "    - [conda](https://docs.conda.io/en/latest/) development environments\n",
    "    - [docker](https://docs.docker.com/get-started/) for more complex applications.\n",
    "    - LXC linux containers"
   ]
  },
  {
   "cell_type": "markdown",
   "metadata": {
    "slideshow": {
     "slide_type": "slide"
    }
   },
   "source": [
    "## Live demo\n",
    "\n",
    "- github: creating empty repository\n",
    "- vscode: cloning repo and creating a new notebook\n",
    "- example application for mie scattering\n",
    "- pushing then changes\n",
    "- mybinder: making notebook publicly available"
   ]
  },
  {
   "cell_type": "markdown",
   "metadata": {
    "slideshow": {
     "slide_type": "slide"
    }
   },
   "source": [
    "## Thank you for your attention!\n",
    "<br><br>\n",
    "Small remaks: \n",
    "- This whole presentation\n",
    "    - is a jupyter notebook,\n",
    "    - using python envirnment,\n",
    "    - stored on github,\n",
    "    - served on mybinder. \n"
   ]
  },
  {
   "cell_type": "markdown",
   "metadata": {
    "slideshow": {
     "slide_type": "subslide"
    }
   },
   "source": [
    "## Tips and Tricks\n",
    "\n",
    "<div class=\"alert alert-block alert-success\">\n",
    "<b>Note:</b> You can use html elements\n",
    "</div>\n",
    "or math in markdown:\n",
    "$$\n",
    "e^{i\\pi} + 1 = 0\n",
    "$$\n",
    "or generate output with actual code:"
   ]
  },
  {
   "cell_type": "code",
   "execution_count": null,
   "metadata": {
    "slideshow": {
     "slide_type": "-"
    }
   },
   "outputs": [],
   "source": [
    "data = {'a': np.arange(50), 'c': np.random.randint(0, 50, 50), 'd': np.random.randn(50)}\n",
    "data['b'], data['d'] = data['a'] + 10 * np.random.randn(50), np.abs(data['d']) * 500\n",
    "\n",
    "plt.scatter('a', 'b', c='c', s='d', data=data)\n",
    "plt.xlabel('entry a')\n",
    "plt.ylabel('entry b')\n",
    "plt.show()"
   ]
  },
  {
   "cell_type": "markdown",
   "metadata": {
    "slideshow": {
     "slide_type": "-"
    }
   },
   "source": [
    " \n"
   ]
  },
  {
   "cell_type": "markdown",
   "metadata": {
    "slideshow": {
     "slide_type": "subslide"
    }
   },
   "source": [
    "## Virtualisation of applications and/or machines\n",
    "\n",
    "1. HPC vs. Cloud computing\n",
    "2. conda/docker/LXC\n",
    "\n",
    "Continuous integration (automatic testing, etc.):\n",
    "- Github actions: https://github.com/features/actions \n",
    "- 3rd party tools like Travis: https://travis-ci.org/ \n",
    "- Do everything automatically that you would do manually!\n",
    "<img src=\"images/ci-cd.jpeg\" alt=\"Drawing\" style=\"width: 50%;\"/>\n"
   ]
  },
  {
   "cell_type": "markdown",
   "metadata": {
    "slideshow": {
     "slide_type": "subslide"
    }
   },
   "source": [
    "## Other tools to make life easier\n",
    " \n",
    " \n",
    "- GitKraken: https://www.gitkraken.com/ \n",
    "- black (formating for python): https://black.readthedocs.io/en/stable/ \n",
    "    - alternatives: yapf, autopep8\n",
    "    - PEP8: https://www.python.org/dev/peps/pep-0008/\n",
    "\n",
    "### Cheating (AI assist):\n",
    "- https://copilot.github.com/ \n",
    "- https://www.tabnine.com/ "
   ]
  },
  {
   "cell_type": "markdown",
   "metadata": {},
   "source": [
    " \n"
   ]
  }
 ],
 "metadata": {
  "celltoolbar": "Slideshow",
  "interpreter": {
   "hash": "262d35cc04ba3798c288ac1885c582df3e6c9c9d57ef53e44c04c1109cb68079"
  },
  "kernelspec": {
   "display_name": "Python 3 (ipykernel)",
   "language": "python",
   "name": "python3"
  },
  "language_info": {
   "codemirror_mode": {
    "name": "ipython",
    "version": 3
   },
   "file_extension": ".py",
   "mimetype": "text/x-python",
   "name": "python",
   "nbconvert_exporter": "python",
   "pygments_lexer": "ipython3",
   "version": "3.9.5"
  },
  "rise": {
   "autolaunch": true,
   "scroll": true
  }
 },
 "nbformat": 4,
 "nbformat_minor": 2
}
